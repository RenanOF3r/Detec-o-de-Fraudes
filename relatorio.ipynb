import pandas as pd
import matplotlib.pyplot as plt

# Simulação de dados de fraudes
data = {'Transação': [1, 2, 3, 4, 5],
        'Valor': [100, 500, 700, 1200, 3000],
        'Fraude': [False, False, True, True, True]}

df = pd.DataFrame(data)

# Mostrar os dados
df.head()
